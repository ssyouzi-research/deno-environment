{
 "cells": [
  {
   "cell_type": "markdown",
   "id": "64a127e4-3364-4ca3-bc76-3255f6cad753",
   "metadata": {},
   "source": [
    "## TypeScript\n",
    "\n",
    "- [TypeScriptでJupyter](https://qiita.com/suzuki_sh/items/90de3fb79f3eb7756047)"
   ]
  },
  {
   "cell_type": "code",
   "execution_count": 1,
   "id": "bb5aaaee-e1cd-4f8c-9275-2db69716c1c1",
   "metadata": {},
   "outputs": [
    {
     "name": "stdout",
     "output_type": "stream",
     "text": [
      "Hello, World!\n"
     ]
    }
   ],
   "source": [
    "console.log(\"Hello, World!\");"
   ]
  }
 ],
 "metadata": {
  "kernelspec": {
   "display_name": "Deno",
   "language": "typescript",
   "name": "deno"
  },
  "language_info": {
   "codemirror_mode": "typescript",
   "file_extension": ".ts",
   "mimetype": "text/x.typescript",
   "name": "typescript",
   "nbconvert_exporter": "script",
   "pygments_lexer": "typescript",
   "version": "5.9.2"
  }
 },
 "nbformat": 4,
 "nbformat_minor": 5
}
